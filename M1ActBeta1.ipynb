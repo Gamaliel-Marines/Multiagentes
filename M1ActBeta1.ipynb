{
 "cells": [
  {
   "cell_type": "code",
   "execution_count": 40,
   "id": "0d4af9f6-6302-4970-8c52-c6ed6657493a",
   "metadata": {},
   "outputs": [],
   "source": [
    "# Gamaliel Marines Olvera - A01708746\n",
    "from mesa import Agent, Model\n",
    "from mesa.space import MultiGrid\n",
    "from mesa.time import RandomActivation\n",
    "from mesa.datacollection import DataCollector\n",
    "\n",
    "# Importamos los siguientes paquetes para el mejor manejo de valores numéricos.\n",
    "import numpy as np\n",
    "\n",
    "import pandas as pd\n",
    "\n",
    "# Definimos otros paquetes que vamos a usar para medir el tiempo de ejecución de nuestro algoritmo.\n",
    "import time\n",
    "import datetime\n",
    "import random"
   ]
  },
  {
   "cell_type": "code",
   "execution_count": 41,
   "id": "defe6272-58a1-4168-ba47-71c14c4a9315",
   "metadata": {},
   "outputs": [],
   "source": [
    "class CleaningAgent(Agent):\n",
    "    def __init__(self, unique_id, model):\n",
    "        super().__init__(unique_id, model)\n",
    "        self.cleaning_step = 0\n",
    "\n",
    "    def move(self):\n",
    "        neighbors = self.model.grid.get_neighbors(self.pos, moore=True, include_center=False)\n",
    "        new_position = self.random.choice(neighbors)\n",
    "\n",
    "        if not self.model.grid.is_cell_empty(new_position):\n",
    "            return\n",
    "        self.model.grid.move_agent(self, new_position)\n",
    "\n",
    "    def step(self):\n",
    "        if self.model.is_dirty(self.pos):\n",
    "            self.model.is_clean(self.pos)\n",
    "            self.cleaning_step += 1\n",
    "        else:\n",
    "            self.move()"
   ]
  },
  {
   "cell_type": "code",
   "execution_count": 42,
   "id": "8e907705-4ff8-4933-a6a3-154650dba4be",
   "metadata": {},
   "outputs": [],
   "source": [
    "class CleaningModel(Model):\n",
    "    def __init__(self, width, height, num_agents, dirty_cells, max_steps):\n",
    "        self.num_agents = num_agents\n",
    "        self.grid = MultiGrid(width, height, torus=False)\n",
    "        self.schedule = RandomActivation(self)\n",
    "        self.running = True\n",
    "        self.steps = 0\n",
    "        self.max_steps = max_steps\n",
    "        self.total_cells = width * height\n",
    "        self.clean_cells = 0\n",
    "        self.dirt = np.zeros((width, height))\n",
    "        total_dirty_cells = int(dirty_cells * self.total_cells)\n",
    "\n",
    "        all_cells = [(x, y) for x in range(width) for y in range(height)]\n",
    "\n",
    "        np.random.shuffle(all_cells)\n",
    "        dirty_cells = all_cells[:total_dirty_cells]\n",
    "\n",
    "        for cell in dirty_cells:\n",
    "            self.dirt[cell[0]][cell[1]] = 1\n",
    "\n",
    "        for i in range(self.num_agents):\n",
    "            x, y = np.random.choice(range(width)), np.random.choice(range(height))\n",
    "            agent = CleaningAgent(i, self)\n",
    "            self.grid.place_agent(agent, (x, y))\n",
    "            self.schedule.add(agent)\n",
    "\n",
    "        self.datacollector = DataCollector({\"Dirt\": lambda m: np.sum(m.dirt)})\n"
   ]
  },
  {
   "cell_type": "code",
   "execution_count": 43,
   "id": "8487877e-9771-443e-b0c6-6aeee037f659",
   "metadata": {},
   "outputs": [],
   "source": [
    "def run_cleaning_simulation(width, height, num_agents, dirty_cells, max_steps):\n",
    "    model = CleaningModel(width, height, num_agents, dirty_cells, max_steps)\n",
    "    for step in range(max_steps):\n",
    "        model.step()\n",
    "        if np.sum(model.dirt) == 0:\n",
    "            return step\n",
    "\n",
    "    return max_steps"
   ]
  },
  {
   "cell_type": "code",
   "execution_count": 44,
   "id": "a19d5ea6-5441-476a-aab7-71cf52bbb242",
   "metadata": {},
   "outputs": [
    {
     "name": "stdout",
     "output_type": "stream",
     "text": [
      "Tiempo de ejecución: 0:00:00.013058\n",
      "Steps: 100\n"
     ]
    }
   ],
   "source": [
    "WIDTH = 100\n",
    "HEIGHT = 100\n",
    "NUM_AGENTS = 1\n",
    "DIRTY_CELLS = 0.1  # Porcentaje de celdas sucias\n",
    "MAX_GENERATIONS = 100\n",
    "\n",
    "start_time = time.time()\n",
    "result = run_cleaning_simulation(WIDTH, HEIGHT, NUM_AGENTS, DIRTY_CELLS, MAX_GENERATIONS)\n",
    "total_time = time.time() - start_time\n",
    "\n",
    "# Imprimimos el tiempo que le tomó correr al modelo y el número de pasos al final\n",
    "print('Tiempo de ejecución:', str(datetime.timedelta(seconds=total_time)))\n",
    "print(\"Steps:\", result)"
   ]
  }
 ],
 "metadata": {
  "kernelspec": {
   "display_name": "Python 3 (ipykernel)",
   "language": "python",
   "name": "python3"
  },
  "language_info": {
   "codemirror_mode": {
    "name": "ipython",
    "version": 3
   },
   "file_extension": ".py",
   "mimetype": "text/x-python",
   "name": "python",
   "nbconvert_exporter": "python",
   "pygments_lexer": "ipython3",
   "version": "3.9.6"
  }
 },
 "nbformat": 4,
 "nbformat_minor": 5
}
