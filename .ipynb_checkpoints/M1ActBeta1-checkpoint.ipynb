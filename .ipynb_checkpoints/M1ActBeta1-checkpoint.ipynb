{
 "cells": [
  {
   "cell_type": "code",
   "execution_count": 119,
   "id": "0d4af9f6-6302-4970-8c52-c6ed6657493a",
   "metadata": {},
   "outputs": [],
   "source": [
    "# Gamaliel Marines Olvera - A01708746\n",
    "from mesa import Agent, Model \n",
    "\n",
    "from mesa.space import MultiGrid\n",
    "\n",
    "from mesa.time import RandomActivation\n",
    "\n",
    "from mesa.datacollection import DataCollector\n",
    "\n",
    "# matplotlib lo usaremos crear una animación de cada uno de los pasos del modelo.\n",
    "%matplotlib inline\n",
    "import matplotlib\n",
    "import matplotlib.pyplot as plt\n",
    "\n",
    "# Importamos los siguientes paquetes para el mejor manejo de valores numéricos.\n",
    "import numpy as np\n",
    "import pandas as pd\n",
    "\n",
    "# Definimos otros paquetes que vamos a usar para medir el tiempo de ejecución de nuestro algoritmo.\n",
    "import time\n",
    "import datetime\n"
   ]
  },
  {
   "cell_type": "code",
   "execution_count": 120,
   "id": "defe6272-58a1-4168-ba47-71c14c4a9315",
   "metadata": {},
   "outputs": [],
   "source": [
    "class CleaningAgent(Agent):\n",
    "    def __init__(self, unique_id, model):\n",
    "        super().__init__(unique_id, model)\n",
    "        self.cleaning_time = 0\n",
    "\n",
    "    def move(self):\n",
    "        neighbors = self.model.grid.get_neighbors(self.pos, moore=True, include_center=False)\n",
    "        new_position = self.random.choice(neighbors)\n",
    "    \n",
    "        if not self.model.grid.is_cell_empty(new_position):\n",
    "            return\n",
    "        self.model.grid.move_agent(self, new_position)\n",
    "\n",
    "\n",
    "    def step(self):\n",
    "        x, y = self.pos\n",
    "        if 'Dirty' in self.model.grid.get_cell_list_contents([(x, y)])[0]:\n",
    "            self.cleaning_time += 1\n",
    "            self.model.grid.get_cell_list_contents([(x, y)])[0]['Dirty'] = False\n",
    "        else:\n",
    "            self.move()"
   ]
  },
  {
   "cell_type": "code",
   "execution_count": 121,
   "id": "8e907705-4ff8-4933-a6a3-154650dba4be",
   "metadata": {},
   "outputs": [],
   "source": [
    "class CleaningModel(Model):\n",
    "    def __init__(self, width, height, dirty_cells, max_time):\n",
    "        self.num_agents = 1\n",
    "        self.grid = MultiGrid(width, height, torus = False)\n",
    "        self.schedule = RandomActivation(self)\n",
    "        self.max_time = max_time\n",
    "        self.total_cells = width * height\n",
    "        self.clean_cells = 0\n",
    "\n",
    "        for (content, (x, y)) in self.grid.coord_iter():\n",
    "            if self.random.random() < dirty_cells:\n",
    "                agent = CleaningAgent(self.num_agents, self)\n",
    "                self.grid.place_agent(agent, (x, y))\n",
    "                self.grid.get_cell_list_contents([(x, y)])[0]['Dirty'] = True\n",
    "                self.clean_cells += 1\n",
    "\n",
    "        agent = CleaningAgent(self.num_agents, self)\n",
    "        self.grid.place_agent(agent, (1, 1))\n",
    "        self.schedule.add(agent)\n",
    "\n",
    "        self.datacollector = DataCollector(agent_reporters={\"Cleaning Time\": \"cleaning_time\"})\n",
    "\n",
    "    def step(self):\n",
    "        self.datacollector.collect(self)\n",
    "        self.schedule.step()"
   ]
  },
  {
   "cell_type": "code",
   "execution_count": 122,
   "id": "8487877e-9771-443e-b0c6-6aeee037f659",
   "metadata": {},
   "outputs": [],
   "source": [
    "def run_cleaning_simulation(width, height, dirty_cells, max_time):\n",
    "    model = CleaningModel(width, height, dirty_cells, max_time)\n",
    "    for step in range(max_time):\n",
    "        model.step()\n",
    "        if all(not agent['Dirty'] for agent in model.grid.get_cell_list_contents(model.grid.coord_iter())):\n",
    "            return (\n",
    "                step,\n",
    "                model.datacollector.agent_vars[1][\"Cleaning Time\"] / model.num_agents,\n",
    "                step * model.num_agents,\n",
    "                (model.clean_cells / model.total_cells) * 100\n",
    "            )\n",
    "\n",
    "    return (\n",
    "        max_time,\n",
    "        model.datacollector.agent_vars[1][\"Cleaning Time\"] / model.num_agents,\n",
    "        max_time * model.num_agents,\n",
    "        (model.clean_cells / model.total_cells) * 100\n",
    "    )"
   ]
  },
  {
   "cell_type": "code",
   "execution_count": 123,
   "id": "a19d5ea6-5441-476a-aab7-71cf52bbb242",
   "metadata": {},
   "outputs": [
    {
     "ename": "TypeError",
     "evalue": "'CleaningAgent' object does not support item assignment",
     "output_type": "error",
     "traceback": [
      "\u001b[0;31m---------------------------------------------------------------------------\u001b[0m",
      "\u001b[0;31mTypeError\u001b[0m                                 Traceback (most recent call last)",
      "Cell \u001b[0;32mIn[123], line 8\u001b[0m\n\u001b[1;32m      6\u001b[0m \u001b[38;5;66;03m# Registramos el tiempo de inicio y ejecutamos la simulación\u001b[39;00m\n\u001b[1;32m      7\u001b[0m start_time \u001b[38;5;241m=\u001b[39m time\u001b[38;5;241m.\u001b[39mtime()\n\u001b[0;32m----> 8\u001b[0m steps, avg_cleaning_time, total_movements, percentage_cleaned \u001b[38;5;241m=\u001b[39m \u001b[43mrun_cleaning_simulation\u001b[49m\u001b[43m(\u001b[49m\u001b[43mWIDTH\u001b[49m\u001b[43m,\u001b[49m\u001b[43m \u001b[49m\u001b[43mHEIGHT\u001b[49m\u001b[43m,\u001b[49m\u001b[43m \u001b[49m\u001b[43mDIRTY_CELLS\u001b[49m\u001b[43m \u001b[49m\u001b[38;5;241;43m/\u001b[39;49m\u001b[43m \u001b[49m\u001b[38;5;241;43m100\u001b[39;49m\u001b[43m,\u001b[49m\u001b[43m \u001b[49m\u001b[43mMAX_GENERATIONS\u001b[49m\u001b[43m)\u001b[49m\n\u001b[1;32m     10\u001b[0m \u001b[38;5;66;03m# Imprimimos el tiempo que le tomó correr al modelo y el porcentaje de celdas limpias al final\u001b[39;00m\n\u001b[1;32m     11\u001b[0m \u001b[38;5;28mprint\u001b[39m(\u001b[38;5;124m'\u001b[39m\u001b[38;5;124mTiempo de ejecución:\u001b[39m\u001b[38;5;124m'\u001b[39m, \u001b[38;5;28mstr\u001b[39m(datetime\u001b[38;5;241m.\u001b[39mtimedelta(seconds\u001b[38;5;241m=\u001b[39m(time\u001b[38;5;241m.\u001b[39mtime() \u001b[38;5;241m-\u001b[39m start_time))))\n",
      "Cell \u001b[0;32mIn[122], line 2\u001b[0m, in \u001b[0;36mrun_cleaning_simulation\u001b[0;34m(width, height, dirty_cells, max_time)\u001b[0m\n\u001b[1;32m      1\u001b[0m \u001b[38;5;28;01mdef\u001b[39;00m \u001b[38;5;21mrun_cleaning_simulation\u001b[39m(width, height, dirty_cells, max_time):\n\u001b[0;32m----> 2\u001b[0m     model \u001b[38;5;241m=\u001b[39m \u001b[43mCleaningModel\u001b[49m\u001b[43m(\u001b[49m\u001b[43mwidth\u001b[49m\u001b[43m,\u001b[49m\u001b[43m \u001b[49m\u001b[43mheight\u001b[49m\u001b[43m,\u001b[49m\u001b[43m \u001b[49m\u001b[43mdirty_cells\u001b[49m\u001b[43m,\u001b[49m\u001b[43m \u001b[49m\u001b[43mmax_time\u001b[49m\u001b[43m)\u001b[49m\n\u001b[1;32m      3\u001b[0m     \u001b[38;5;28;01mfor\u001b[39;00m step \u001b[38;5;129;01min\u001b[39;00m \u001b[38;5;28mrange\u001b[39m(max_time):\n\u001b[1;32m      4\u001b[0m         model\u001b[38;5;241m.\u001b[39mstep()\n",
      "Cell \u001b[0;32mIn[121], line 14\u001b[0m, in \u001b[0;36mCleaningModel.__init__\u001b[0;34m(self, width, height, dirty_cells, max_time)\u001b[0m\n\u001b[1;32m     12\u001b[0m         agent \u001b[38;5;241m=\u001b[39m CleaningAgent(\u001b[38;5;28mself\u001b[39m\u001b[38;5;241m.\u001b[39mnum_agents, \u001b[38;5;28mself\u001b[39m)\n\u001b[1;32m     13\u001b[0m         \u001b[38;5;28mself\u001b[39m\u001b[38;5;241m.\u001b[39mgrid\u001b[38;5;241m.\u001b[39mplace_agent(agent, (x, y))\n\u001b[0;32m---> 14\u001b[0m         \u001b[38;5;28;43mself\u001b[39;49m\u001b[38;5;241;43m.\u001b[39;49m\u001b[43mgrid\u001b[49m\u001b[38;5;241;43m.\u001b[39;49m\u001b[43mget_cell_list_contents\u001b[49m\u001b[43m(\u001b[49m\u001b[43m[\u001b[49m\u001b[43m(\u001b[49m\u001b[43mx\u001b[49m\u001b[43m,\u001b[49m\u001b[43m \u001b[49m\u001b[43my\u001b[49m\u001b[43m)\u001b[49m\u001b[43m]\u001b[49m\u001b[43m)\u001b[49m\u001b[43m[\u001b[49m\u001b[38;5;241;43m0\u001b[39;49m\u001b[43m]\u001b[49m\u001b[43m[\u001b[49m\u001b[38;5;124;43m'\u001b[39;49m\u001b[38;5;124;43mDirty\u001b[39;49m\u001b[38;5;124;43m'\u001b[39;49m\u001b[43m]\u001b[49m \u001b[38;5;241m=\u001b[39m \u001b[38;5;28;01mTrue\u001b[39;00m\n\u001b[1;32m     15\u001b[0m         \u001b[38;5;28mself\u001b[39m\u001b[38;5;241m.\u001b[39mclean_cells \u001b[38;5;241m+\u001b[39m\u001b[38;5;241m=\u001b[39m \u001b[38;5;241m1\u001b[39m\n\u001b[1;32m     17\u001b[0m agent \u001b[38;5;241m=\u001b[39m CleaningAgent(\u001b[38;5;28mself\u001b[39m\u001b[38;5;241m.\u001b[39mnum_agents, \u001b[38;5;28mself\u001b[39m)\n",
      "\u001b[0;31mTypeError\u001b[0m: 'CleaningAgent' object does not support item assignment"
     ]
    }
   ],
   "source": [
    "WIDTH = 100\n",
    "HEIGHT = 100\n",
    "DIRTY_CELLS = 90  # Porcentaje de celdas sucias\n",
    "MAX_GENERATIONS = 100\n",
    "\n",
    "# Registramos el tiempo de inicio y ejecutamos la simulación\n",
    "start_time = time.time()\n",
    "steps, avg_cleaning_time, total_movements, percentage_cleaned = run_cleaning_simulation(WIDTH, HEIGHT, DIRTY_CELLS / 100, MAX_GENERATIONS)\n",
    "\n",
    "# Imprimimos el tiempo que le tomó correr al modelo y el porcentaje de celdas limpias al final\n",
    "print('Tiempo de ejecución:', str(datetime.timedelta(seconds=(time.time() - start_time))))\n",
    "print('Porcentaje de celdas limpias al final:', percentage_cleaned, '%')"
   ]
  },
  {
   "cell_type": "code",
   "execution_count": null,
   "id": "fdeaecfd-8a0f-4b51-a2c6-2d516481e6f1",
   "metadata": {},
   "outputs": [],
   "source": []
  }
 ],
 "metadata": {
  "kernelspec": {
   "display_name": "Python 3 (ipykernel)",
   "language": "python",
   "name": "python3"
  },
  "language_info": {
   "codemirror_mode": {
    "name": "ipython",
    "version": 3
   },
   "file_extension": ".py",
   "mimetype": "text/x-python",
   "name": "python",
   "nbconvert_exporter": "python",
   "pygments_lexer": "ipython3",
   "version": "3.9.6"
  }
 },
 "nbformat": 4,
 "nbformat_minor": 5
}
