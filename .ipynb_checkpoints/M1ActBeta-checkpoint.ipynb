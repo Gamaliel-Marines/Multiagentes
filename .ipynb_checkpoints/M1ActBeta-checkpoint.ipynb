{
 "cells": [
  {
   "cell_type": "code",
   "execution_count": 44,
   "id": "0d4af9f6-6302-4970-8c52-c6ed6657493a",
   "metadata": {},
   "outputs": [],
   "source": [
    "# Gamaliel Marines Olvera - A01708746\n",
    "\n",
    "\n",
    "\n",
    "from mesa import Agent, Model \n",
    "\n",
    "from mesa.space import MultiGrid\n",
    "\n",
    "from mesa.time import RandomActivation\n",
    "\n",
    "from mesa.datacollection import DataCollector\n",
    "\n",
    "# matplotlib lo usaremos crear una animación de cada uno de los pasos del modelo.\n",
    "%matplotlib inline\n",
    "import matplotlib\n",
    "import matplotlib.pyplot as plt\n",
    "import matplotlib.animation as animation\n",
    "plt.rcParams[\"animation.html\"] = \"jshtml\"\n",
    "matplotlib.rcParams['animation.embed_limit'] = 2**128\n",
    "\n",
    "# Importamos los siguientes paquetes para el mejor manejo de valores numéricos.\n",
    "import numpy as np\n",
    "import pandas as pd\n",
    "\n",
    "# Definimos otros paquetes que vamos a usar para medir el tiempo de ejecución de nuestro algoritmo.\n",
    "import time\n",
    "import datetime\n"
   ]
  },
  {
   "cell_type": "code",
   "execution_count": 45,
   "id": "defe6272-58a1-4168-ba47-71c14c4a9315",
   "metadata": {},
   "outputs": [],
   "source": [
    "class CleaningAgent(Agent):\n",
    "    def __init__(self, id, model):\n",
    "        super().__init__(id, model)\n",
    "        self.cleaning_time = 0\n",
    "\n",
    "    def move(self):\n",
    "        neighbors = self.model.grid.get_neighborhood(self.pos, moore=True, include_center=False)\n",
    "        new_position = self.random.choice(neighbors)\n",
    "        self.model.grid.move_agent(self, new_position)\n",
    "\n",
    "    def step(self):\n",
    "        x, y = self.pos\n",
    "        if 'Dirty' in self.model.grid[x][y] and self.model.grid[x][y]['Dirty']:\n",
    "            # La celda está sucia, realiza las operaciones necesarias\n",
    "            self.cleaning_time += 1\n",
    "            self.model.grid[x][y]['Dirty'] = False\n",
    "\n",
    "        else:\n",
    "            self.move()"
   ]
  },
  {
   "cell_type": "code",
   "execution_count": 46,
   "id": "8e907705-4ff8-4933-a6a3-154650dba4be",
   "metadata": {},
   "outputs": [],
   "source": [
    "class CleaningModel(Model):\n",
    "    def __init__(self, width, height, dirty_cells, max_time):\n",
    "        self.num_agents = 1\n",
    "        self.grid = MultiGrid(width, height, False)\n",
    "        self.schedule = RandomActivation(self)\n",
    "        self.max_time = max_time\n",
    "\n",
    "        for (x, y) in self.grid.coord_iter():\n",
    "            if self.random.random() < dirty_cells:\n",
    "                self.grid[x][y][0]['Dirty'] = True\n",
    "\n",
    "        agent = CleaningAgent(self.num_agents, self)\n",
    "        self.grid.place_agent(agent, (1, 1))\n",
    "        self.schedule.add(agent)\n",
    "\n",
    "        self.datacollector = DataCollector(agent_reporters={\"Cleaning Time\": \"cleaning_time\"})\n",
    "\n",
    "    def step(self):\n",
    "        self.datacollector.collect(self)\n",
    "        self.schedule.step()"
   ]
  },
  {
   "cell_type": "code",
   "execution_count": 47,
   "id": "8487877e-9771-443e-b0c6-6aeee037f659",
   "metadata": {},
   "outputs": [],
   "source": [
    "def run_cleaning_simulation(width, height, dirty_cells, max_time):\n",
    "    model = CleaningModel(width, height, dirty_cells, max_time)\n",
    "    for step in range(max_time):\n",
    "        model.step()\n",
    "        if all(not agent_pos.dirty for agent_pos in model.grid.get_all_cell_contents()):\n",
    "            return step, model.datacollector.agent_vars[1][\"Cleaning Time\"] / model.num_agents, step * model.num_agents\n",
    "\n",
    "    return max_time, model.datacollector.agent_vars[1][\"Cleaning Time\"] / model.num_agents, max_time * model.num_agents\n"
   ]
  },
  {
   "cell_type": "code",
   "execution_count": 48,
   "id": "a19d5ea6-5441-476a-aab7-71cf52bbb242",
   "metadata": {},
   "outputs": [
    {
     "name": "stdout",
     "output_type": "stream",
     "text": [
      "Tiempo de ejecución: 0:00:00.008343\n"
     ]
    }
   ],
   "source": [
    "WIDTH = 100\n",
    "HEIGHT = 100\n",
    "DIRTY_CELLS = 90  # Porcentaje de celdas sucias\n",
    "MAX_GENERATIONS = 100\n",
    "\n",
    "# Registramos el tiempo de inicio y ejecutamos la simulación\n",
    "start_time = time.time()\n",
    "model = CleaningModel(WIDTH, HEIGHT, int(DIRTY_CELLS / 100), MAX_GENERATIONS)\n",
    "for i in range(MAX_GENERATIONS):\n",
    "    model.step()\n",
    "    \n",
    "# Imprimimos el tiempo que le tomó correr al modelo.\n",
    "print('Tiempo de ejecución:', str(datetime.timedelta(seconds=(time.time() - start_time))))"
   ]
  },
  {
   "cell_type": "code",
   "execution_count": 41,
   "id": "18c5c1f4-cf3d-4bb0-8dda-b42a43d5b87a",
   "metadata": {},
   "outputs": [
    {
     "ename": "UserWarning",
     "evalue": "No model reporters have been defined in the DataCollector, returning empty DataFrame.",
     "output_type": "error",
     "traceback": [
      "\u001b[0;31m---------------------------------------------------------------------------\u001b[0m",
      "\u001b[0;31mUserWarning\u001b[0m                               Traceback (most recent call last)",
      "Cell \u001b[0;32mIn[41], line 2\u001b[0m\n\u001b[1;32m      1\u001b[0m \u001b[38;5;66;03m# Obtenemos la información que almacenó el colector, este nos entregará un DataFrame de pandas que contiene toda la información.\u001b[39;00m\n\u001b[0;32m----> 2\u001b[0m all_grid \u001b[38;5;241m=\u001b[39m \u001b[43mmodel\u001b[49m\u001b[38;5;241;43m.\u001b[39;49m\u001b[43mdatacollector\u001b[49m\u001b[38;5;241;43m.\u001b[39;49m\u001b[43mget_model_vars_dataframe\u001b[49m\u001b[43m(\u001b[49m\u001b[43m)\u001b[49m\n",
      "File \u001b[0;32m~/Library/Python/3.9/lib/python/site-packages/mesa/datacollection.py:217\u001b[0m, in \u001b[0;36mDataCollector.get_model_vars_dataframe\u001b[0;34m(self)\u001b[0m\n\u001b[1;32m    215\u001b[0m \u001b[38;5;66;03m# Check if self.model_reporters dictionary is empty, if so raise warning\u001b[39;00m\n\u001b[1;32m    216\u001b[0m \u001b[38;5;28;01mif\u001b[39;00m \u001b[38;5;129;01mnot\u001b[39;00m \u001b[38;5;28mself\u001b[39m\u001b[38;5;241m.\u001b[39mmodel_reporters:\n\u001b[0;32m--> 217\u001b[0m     \u001b[38;5;28;01mraise\u001b[39;00m \u001b[38;5;167;01mUserWarning\u001b[39;00m(\n\u001b[1;32m    218\u001b[0m         \u001b[38;5;124m\"\u001b[39m\u001b[38;5;124mNo model reporters have been defined in the DataCollector, returning empty DataFrame.\u001b[39m\u001b[38;5;124m\"\u001b[39m\n\u001b[1;32m    219\u001b[0m     )\n\u001b[1;32m    221\u001b[0m \u001b[38;5;28;01mreturn\u001b[39;00m pd\u001b[38;5;241m.\u001b[39mDataFrame(\u001b[38;5;28mself\u001b[39m\u001b[38;5;241m.\u001b[39mmodel_vars)\n",
      "\u001b[0;31mUserWarning\u001b[0m: No model reporters have been defined in the DataCollector, returning empty DataFrame."
     ]
    }
   ],
   "source": [
    "# Obtenemos la información que almacenó el colector, este nos entregará un DataFrame de pandas que contiene toda la información.\n",
    "all_grid = model.datacollector.get_model_vars_dataframe()"
   ]
  },
  {
   "cell_type": "code",
   "execution_count": 42,
   "id": "c7164c78-eb75-4f07-93dd-70e89e130a2f",
   "metadata": {},
   "outputs": [
    {
     "ename": "NameError",
     "evalue": "name 'all_grid' is not defined",
     "output_type": "error",
     "traceback": [
      "\u001b[0;31m---------------------------------------------------------------------------\u001b[0m",
      "\u001b[0;31mNameError\u001b[0m                                 Traceback (most recent call last)",
      "Cell \u001b[0;32mIn[42], line 4\u001b[0m\n\u001b[1;32m      2\u001b[0m axs\u001b[38;5;241m.\u001b[39mset_xticks([])\n\u001b[1;32m      3\u001b[0m axs\u001b[38;5;241m.\u001b[39mset_yticks([])\n\u001b[0;32m----> 4\u001b[0m patch \u001b[38;5;241m=\u001b[39m plt\u001b[38;5;241m.\u001b[39mimshow(\u001b[43mall_grid\u001b[49m\u001b[38;5;241m.\u001b[39miloc[\u001b[38;5;241m0\u001b[39m][\u001b[38;5;241m0\u001b[39m], cmap\u001b[38;5;241m=\u001b[39mplt\u001b[38;5;241m.\u001b[39mcm\u001b[38;5;241m.\u001b[39mbinary)\n\u001b[1;32m      6\u001b[0m \u001b[38;5;28;01mdef\u001b[39;00m \u001b[38;5;21manimate\u001b[39m(i):\n\u001b[1;32m      7\u001b[0m     patch\u001b[38;5;241m.\u001b[39mset_data(all_grid\u001b[38;5;241m.\u001b[39miloc[i][\u001b[38;5;241m0\u001b[39m])\n",
      "\u001b[0;31mNameError\u001b[0m: name 'all_grid' is not defined"
     ]
    },
    {
     "data": {
      "image/png": "[encoded data removed]",
      "text/plain": [
       "<Figure size 700x700 with 1 Axes>"
      ]
     },
     "metadata": {},
     "output_type": "display_data"
    }
   ],
   "source": [
    "fig, axs = plt.subplots(figsize=(7, 7))\n",
    "axs.set_xticks([])\n",
    "axs.set_yticks([])\n",
    "patch = plt.imshow(all_grid.iloc[0][0], cmap=plt.cm.binary)\n",
    "\n",
    "def animate(i):\n",
    "    patch.set_data(all_grid.iloc[i][0])\n",
    "\n",
    "anim = animation.FuncAnimation(fig, animate, frames=MAX_GENERATIONS)"
   ]
  },
  {
   "cell_type": "code",
   "execution_count": 43,
   "id": "3882014b-be24-40ae-92ea-41a8d5bc87d0",
   "metadata": {},
   "outputs": [
    {
     "ename": "NameError",
     "evalue": "name 'anim' is not defined",
     "output_type": "error",
     "traceback": [
      "\u001b[0;31m---------------------------------------------------------------------------\u001b[0m",
      "\u001b[0;31mNameError\u001b[0m                                 Traceback (most recent call last)",
      "Cell \u001b[0;32mIn[43], line 1\u001b[0m\n\u001b[0;32m----> 1\u001b[0m \u001b[43manim\u001b[49m\n",
      "\u001b[0;31mNameError\u001b[0m: name 'anim' is not defined"
     ]
    }
   ],
   "source": [
    "anim"
   ]
  },
  {
   "cell_type": "code",
   "execution_count": null,
   "id": "cecf7872-5800-46b7-88d5-1702db3f74dd",
   "metadata": {},
   "outputs": [],
   "source": []
  }
 ],
 "metadata": {
  "kernelspec": {
   "display_name": "Python 3 (ipykernel)",
   "language": "python",
   "name": "python3"
  },
  "language_info": {
   "codemirror_mode": {
    "name": "ipython",
    "version": 3
   },
   "file_extension": ".py",
   "mimetype": "text/x-python",
   "name": "python",
   "nbconvert_exporter": "python",
   "pygments_lexer": "ipython3",
   "version": "3.9.6"
  }
 },
 "nbformat": 4,
 "nbformat_minor": 5
}
